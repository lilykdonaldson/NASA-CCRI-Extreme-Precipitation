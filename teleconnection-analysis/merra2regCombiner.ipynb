{
 "cells": [
  {
   "cell_type": "code",
   "execution_count": 2,
   "id": "54ec926c-3771-4c76-8618-d9301d368374",
   "metadata": {},
   "outputs": [],
   "source": [
    "#IMPORTS\n",
    "import xarray as xr #most of analysis\n",
    "import numpy as np #more array functions\n",
    "\n",
    "import matplotlib.pyplot as plt #plotting!!\n",
    "import matplotlib.ticker as mticker #many of the rest are for our maps including part of the globe\n",
    "import matplotlib.gridspec as gridspec\n",
    "import matplotlib.patches as patches \n",
    "import matplotlib.transforms as transforms\n",
    "from matplotlib.pyplot import MultipleLocator\n",
    "\n",
    "import cftime\n",
    "\n",
    "import cartopy.crs as ccrs\n",
    "from cartopy.mpl.ticker import LongitudeFormatter, LatitudeFormatter\n",
    "from cartopy.util import add_cyclic_point\n",
    "import cartopy.feature as cfeature\n",
    "\n",
    "directory = '~/Desktop/projects/nasa2024/nino-reg-advanced/'"
   ]
  },
  {
   "cell_type": "code",
   "execution_count": null,
   "id": "0a640745-d260-4d51-b37e-4a3c9cada07f",
   "metadata": {},
   "outputs": [
    {
     "name": "stdout",
     "output_type": "stream",
     "text": [
      "1980\n",
      "1981\n",
      "1982\n",
      "1983\n",
      "1984\n",
      "1985\n",
      "1986\n",
      "1987\n",
      "1988\n",
      "1989\n",
      "1990\n",
      "1991\n",
      "1992\n",
      "1993\n",
      "1994\n",
      "1995\n",
      "1996\n",
      "1997\n",
      "1998\n",
      "1999\n",
      "2000\n",
      "2001\n",
      "2002\n",
      "2003\n",
      "2004\n",
      "2005\n",
      "2006\n",
      "2007\n",
      "2008\n",
      "2009\n",
      "2010\n",
      "2011\n",
      "2012\n",
      "2013\n",
      "2014\n",
      "2015\n",
      "2016\n",
      "2017\n",
      "2018\n",
      "2019\n",
      "2020\n",
      "2021\n",
      "2022\n"
     ]
    }
   ],
   "source": [
    "#Takes monthly global precipitation, temperature data from 1980 to 2023\n",
    "#and combines it into one file\n",
    "\n",
    "#Set at 0 if starting new file, 1 if expanding an older file\n",
    "counter = 0\n",
    "for i in range(1980,2024):\n",
    "    for j in range(1,13):\n",
    "        #getting the correct file name\n",
    "        m = 0\n",
    "        if (i < 1992):\n",
    "            k = 1\n",
    "        elif (i < 2001):\n",
    "            k = 2\n",
    "        elif (i < 2011):\n",
    "            k = 3\n",
    "        else:\n",
    "            k = 4\n",
    "            if ((i == 2020 and j == 9) or (i == 2021 and j >= 6 and j <= 9)):\n",
    "                m = 1\n",
    "\n",
    "        #get file name\n",
    "        if (j < 10):\n",
    "            nfname = f\"files/MERRA2_{k}0{m}.statM_2d_slv_Nx.{i}0{j}.nc4\"\n",
    "        else:\n",
    "            nfname = f\"files/MERRA2_{k}0{m}.statM_2d_slv_Nx.{i}{j}.nc4\"\n",
    "\n",
    "        #collect file\n",
    "        nf = xr.open_dataset(directory+nfname) \n",
    "\n",
    "        #create new array (if first item) OR concatenate\n",
    "        if (counter == 0):\n",
    "            f = nf\n",
    "            counter += 1\n",
    "        else:\n",
    "            f = xr.concat((f, nf), dim='time')\n",
    "    print(i)"
   ]
  },
  {
   "cell_type": "code",
   "execution_count": 34,
   "id": "be0ee53c-b863-499e-885b-6252654b915e",
   "metadata": {},
   "outputs": [],
   "source": [
    "f.to_netcdf(\"full_merra2_monthly.nc4\")"
   ]
  },
  {
   "cell_type": "code",
   "execution_count": null,
   "id": "9ffd9595-cb13-44f7-9794-32c9db2c31e1",
   "metadata": {},
   "outputs": [],
   "source": []
  }
 ],
 "metadata": {
  "kernelspec": {
   "display_name": "Python 3 (ipykernel)",
   "language": "python",
   "name": "python3"
  },
  "language_info": {
   "codemirror_mode": {
    "name": "ipython",
    "version": 3
   },
   "file_extension": ".py",
   "mimetype": "text/x-python",
   "name": "python",
   "nbconvert_exporter": "python",
   "pygments_lexer": "ipython3",
   "version": "3.12.4"
  }
 },
 "nbformat": 4,
 "nbformat_minor": 5
}
